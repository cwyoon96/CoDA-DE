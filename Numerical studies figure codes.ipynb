version https://git-lfs.github.com/spec/v1
oid sha256:d75989d959913a48ecc72635b587ed9f0b55e35c3e2602f6b3c8cbb51c72f14d
size 53575331
