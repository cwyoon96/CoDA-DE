{
 "cells": [
  {
   "cell_type": "code",
   "execution_count": 2,
   "id": "d96ed2eb",
   "metadata": {},
   "outputs": [],
   "source": [
    "# https://academic.oup.com/jrsssc/article/57/5/505/7113444 (A Latent Gaussian Model for Compositional Data with Zeros)\n",
    "import matplotlib as plt\n",
    "# import matplotlib.backends.backend_tkagg\n",
    "# matplotlib.use('tkagg')\n",
    "import pandas as pd\n",
    "import numpy as np\n",
    "# from ydata_profiling import ProfileReport"
   ]
  },
  {
   "cell_type": "code",
   "execution_count": null,
   "id": "c1f56420",
   "metadata": {},
   "outputs": [],
   "source": [
    "# pip install --upgrade pandas"
   ]
  },
  {
   "cell_type": "code",
   "execution_count": null,
   "id": "7582b4df",
   "metadata": {},
   "outputs": [],
   "source": [
    "# df = pd.DataFrame(np.random.rand(100, 5), columns=[\"a\", \"b\", \"c\", \"d\", \"e\"])\n",
    "# profile = ProfileReport(df, title=\"Profiling Report\")\n",
    "# profile.to_file(\"your_report.html\")"
   ]
  },
  {
   "cell_type": "code",
   "execution_count": 3,
   "id": "9af4e3f3",
   "metadata": {},
   "outputs": [],
   "source": [
    "beef = pd.read_csv('/Users/user/Desktop/JMLR/after jacobian/Nut/beef_nut.csv')\n",
    "beverage = pd.read_csv('/Users/user/Desktop/JMLR/after jacobian/Nut/beverage_nut.csv')\n",
    "fish = pd.read_csv('/Users/user/Desktop/JMLR/after jacobian/Nut/fish_nut.csv')\n",
    "pork = pd.read_csv('/Users/user/Desktop/JMLR/after jacobian/Nut/pork_nut.csv')"
   ]
  },
  {
   "cell_type": "code",
   "execution_count": null,
   "id": "b3247eb2",
   "metadata": {},
   "outputs": [],
   "source": [
    "\n",
    "# profile_beef = beef.profile_report()\n",
    "# profile_beef\n",
    "\n",
    "# pip install ydata_profiling"
   ]
  },
  {
   "cell_type": "code",
   "execution_count": 8,
   "id": "571a9837",
   "metadata": {},
   "outputs": [],
   "source": [
    "# 필요한 라이브러리 불러오기\n",
    "import plotly.offline as pyo\n",
    "import plotly.graph_objs as go\n",
    "\n",
    "# 오프라인 모드로 변경하기 ( 그림 안나오면 )\n",
    "pyo.init_notebook_mode()"
   ]
  },
  {
   "cell_type": "code",
   "execution_count": 9,
   "id": "6a59430a",
   "metadata": {},
   "outputs": [],
   "source": [
    "import plotly.express as px # candidate1\n",
    "\n",
    "fig = px.scatter_ternary(beef , a=\"protein\", b=\"fat\", c=\"carbon\"); fig"
   ]
  },
  {
   "cell_type": "code",
   "execution_count": 10,
   "id": "3f99cf5d",
   "metadata": {},
   "outputs": [],
   "source": [
    "fig = px.scatter_ternary(fish , a=\"protein\", b=\"fat\", c=\"carbon\"); fig"
   ]
  },
  {
   "cell_type": "code",
   "execution_count": 11,
   "id": "40340923",
   "metadata": {},
   "outputs": [],
   "source": [
    "fig = px.scatter_ternary(beverage , a=\"protein\", b=\"fat\", c=\"carbon\"); fig"
   ]
  },
  {
   "cell_type": "code",
   "execution_count": 12,
   "id": "2a120ce2",
   "metadata": {},
   "outputs": [],
   "source": [
    "fig = px.scatter_ternary(pork , a=\"protein\", b=\"fat\", c=\"carbon\"); fig"
   ]
  },
  {
   "cell_type": "code",
   "execution_count": null,
   "id": "a2e1d809",
   "metadata": {},
   "outputs": [],
   "source": []
  }
 ],
 "metadata": {
  "kernelspec": {
   "display_name": "Python 3 (ipykernel)",
   "language": "python",
   "name": "python3"
  },
  "language_info": {
   "codemirror_mode": {
    "name": "ipython",
    "version": 3
   },
   "file_extension": ".py",
   "mimetype": "text/x-python",
   "name": "python",
   "nbconvert_exporter": "python",
   "pygments_lexer": "ipython3",
   "version": "3.11.5"
  }
 },
 "nbformat": 4,
 "nbformat_minor": 5
}
